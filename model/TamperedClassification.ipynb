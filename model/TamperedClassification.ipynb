{
  "cells": [
    {
      "cell_type": "code",
      "execution_count": null,
      "metadata": {
        "colab": {
          "base_uri": "https://localhost:8080/"
        },
        "id": "kDfwJ18Go3-D",
        "outputId": "1df5cc4e-f9e4-4f95-dbcd-e3c8d81bcfcf"
      },
      "outputs": [],
      "source": [
        "!unzip \"/content/drive/MyDrive/NG Hack Week/CASIA2.0_Groundtruth.zip\""
      ]
    },
    {
      "cell_type": "code",
      "execution_count": null,
      "metadata": {
        "colab": {
          "base_uri": "https://localhost:8080/"
        },
        "id": "0Y_Ab3InpGdB",
        "outputId": "1c34626b-0d96-4109-eae0-1605f429837b"
      },
      "outputs": [],
      "source": [
        "!unzip \"/content/drive/MyDrive/NG Hack Week/CASIA2.0_revised.zip\""
      ]
    },
    {
      "cell_type": "code",
      "execution_count": 42,
      "metadata": {
        "id": "Kw-oF0UJrSVl"
      },
      "outputs": [],
      "source": [
        "#Importing all the necessary modules\n",
        "import pandas as pd\n",
        "import numpy as np\n",
        "import matplotlib.pyplot as plt\n",
        "from sklearn.model_selection import train_test_split\n",
        "from sklearn.metrics import confusion_matrix\n",
        "import itertools\n",
        "from tqdm import tqdm\n",
        "import random\n",
        "import keras\n",
        "from keras.utils.np_utils import to_categorical \n",
        "from keras.models import Sequential\n",
        "from keras.layers import Dense, Dropout, Flatten, Conv2D, MaxPool2D\n",
        "from keras.optimizers import RMSprop,Adam\n",
        "from keras.preprocessing.image import ImageDataGenerator\n",
        "from keras.callbacks import ReduceLROnPlateau, EarlyStopping\n",
        "from keras.preprocessing.image import ImageDataGenerator\n",
        "import os\n",
        "from PIL import Image, ImageChops, ImageEnhance\n",
        "from IPython.display import display # to display images\n"
      ]
    },
    {
      "cell_type": "markdown",
      "metadata": {
        "id": "KDv7C_jMSlaF"
      },
      "source": [
        "# New Section"
      ]
    },
    {
      "cell_type": "code",
      "execution_count": 4,
      "metadata": {
        "colab": {
          "base_uri": "https://localhost:8080/",
          "height": 206
        },
        "id": "sd6IhqfITJQm",
        "outputId": "48fbd5e0-89c1-406d-f6c6-4b21b21ba6e6"
      },
      "outputs": [
        {
          "data": {
            "text/html": [
              "\n",
              "  <div id=\"df-7d977c7c-85fe-4256-b106-b1c370c48401\">\n",
              "    <div class=\"colab-df-container\">\n",
              "      <div>\n",
              "<style scoped>\n",
              "    .dataframe tbody tr th:only-of-type {\n",
              "        vertical-align: middle;\n",
              "    }\n",
              "\n",
              "    .dataframe tbody tr th {\n",
              "        vertical-align: top;\n",
              "    }\n",
              "\n",
              "    .dataframe thead th {\n",
              "        text-align: right;\n",
              "    }\n",
              "</style>\n",
              "<table border=\"1\" class=\"dataframe\">\n",
              "  <thead>\n",
              "    <tr style=\"text-align: right;\">\n",
              "      <th></th>\n",
              "      <th>source</th>\n",
              "      <th>target</th>\n",
              "      <th>tampered</th>\n",
              "    </tr>\n",
              "  </thead>\n",
              "  <tbody>\n",
              "    <tr>\n",
              "      <th>0</th>\n",
              "      <td>Au_ani_00044.jpg</td>\n",
              "      <td>Tp_S_NNN_S_B_ani00044_ani00044_00164_gt.png</td>\n",
              "      <td>Tp_S_NNN_S_B_ani00044_ani00044_00164.tif</td>\n",
              "    </tr>\n",
              "    <tr>\n",
              "      <th>1</th>\n",
              "      <td>Au_pla_20019.jpg</td>\n",
              "      <td>Tp_S_NRD_S_N_pla20019_pla20019_02390_gt.png</td>\n",
              "      <td>Tp_S_NRD_S_N_pla20019_pla20019_02390.tif</td>\n",
              "    </tr>\n",
              "    <tr>\n",
              "      <th>2</th>\n",
              "      <td>Au_sec_00057.jpg</td>\n",
              "      <td>Tp_D_NRD_M_N_sec00057_nat00001_00078_gt.png</td>\n",
              "      <td>Tp_D_NRD_M_N_sec00057_nat00001_00078.tif</td>\n",
              "    </tr>\n",
              "    <tr>\n",
              "      <th>3</th>\n",
              "      <td>Au_art_00070.jpg</td>\n",
              "      <td>Tp_S_NNN_S_B_art00070_art00070_01241_gt.png</td>\n",
              "      <td>Tp_S_NNN_S_B_art00070_art00070_01241.tif</td>\n",
              "    </tr>\n",
              "    <tr>\n",
              "      <th>4</th>\n",
              "      <td>Au_nat_20039.jpg</td>\n",
              "      <td>Tp_D_NRD_S_B_nat20039_arc20055_02239_gt.png</td>\n",
              "      <td>Tp_D_NRD_S_B_nat20039_arc20055_02239.tif</td>\n",
              "    </tr>\n",
              "  </tbody>\n",
              "</table>\n",
              "</div>\n",
              "      <button class=\"colab-df-convert\" onclick=\"convertToInteractive('df-7d977c7c-85fe-4256-b106-b1c370c48401')\"\n",
              "              title=\"Convert this dataframe to an interactive table.\"\n",
              "              style=\"display:none;\">\n",
              "        \n",
              "  <svg xmlns=\"http://www.w3.org/2000/svg\" height=\"24px\"viewBox=\"0 0 24 24\"\n",
              "       width=\"24px\">\n",
              "    <path d=\"M0 0h24v24H0V0z\" fill=\"none\"/>\n",
              "    <path d=\"M18.56 5.44l.94 2.06.94-2.06 2.06-.94-2.06-.94-.94-2.06-.94 2.06-2.06.94zm-11 1L8.5 8.5l.94-2.06 2.06-.94-2.06-.94L8.5 2.5l-.94 2.06-2.06.94zm10 10l.94 2.06.94-2.06 2.06-.94-2.06-.94-.94-2.06-.94 2.06-2.06.94z\"/><path d=\"M17.41 7.96l-1.37-1.37c-.4-.4-.92-.59-1.43-.59-.52 0-1.04.2-1.43.59L10.3 9.45l-7.72 7.72c-.78.78-.78 2.05 0 2.83L4 21.41c.39.39.9.59 1.41.59.51 0 1.02-.2 1.41-.59l7.78-7.78 2.81-2.81c.8-.78.8-2.07 0-2.86zM5.41 20L4 18.59l7.72-7.72 1.47 1.35L5.41 20z\"/>\n",
              "  </svg>\n",
              "      </button>\n",
              "      \n",
              "  <style>\n",
              "    .colab-df-container {\n",
              "      display:flex;\n",
              "      flex-wrap:wrap;\n",
              "      gap: 12px;\n",
              "    }\n",
              "\n",
              "    .colab-df-convert {\n",
              "      background-color: #E8F0FE;\n",
              "      border: none;\n",
              "      border-radius: 50%;\n",
              "      cursor: pointer;\n",
              "      display: none;\n",
              "      fill: #1967D2;\n",
              "      height: 32px;\n",
              "      padding: 0 0 0 0;\n",
              "      width: 32px;\n",
              "    }\n",
              "\n",
              "    .colab-df-convert:hover {\n",
              "      background-color: #E2EBFA;\n",
              "      box-shadow: 0px 1px 2px rgba(60, 64, 67, 0.3), 0px 1px 3px 1px rgba(60, 64, 67, 0.15);\n",
              "      fill: #174EA6;\n",
              "    }\n",
              "\n",
              "    [theme=dark] .colab-df-convert {\n",
              "      background-color: #3B4455;\n",
              "      fill: #D2E3FC;\n",
              "    }\n",
              "\n",
              "    [theme=dark] .colab-df-convert:hover {\n",
              "      background-color: #434B5C;\n",
              "      box-shadow: 0px 1px 3px 1px rgba(0, 0, 0, 0.15);\n",
              "      filter: drop-shadow(0px 1px 2px rgba(0, 0, 0, 0.3));\n",
              "      fill: #FFFFFF;\n",
              "    }\n",
              "  </style>\n",
              "\n",
              "      <script>\n",
              "        const buttonEl =\n",
              "          document.querySelector('#df-7d977c7c-85fe-4256-b106-b1c370c48401 button.colab-df-convert');\n",
              "        buttonEl.style.display =\n",
              "          google.colab.kernel.accessAllowed ? 'block' : 'none';\n",
              "\n",
              "        async function convertToInteractive(key) {\n",
              "          const element = document.querySelector('#df-7d977c7c-85fe-4256-b106-b1c370c48401');\n",
              "          const dataTable =\n",
              "            await google.colab.kernel.invokeFunction('convertToInteractive',\n",
              "                                                     [key], {});\n",
              "          if (!dataTable) return;\n",
              "\n",
              "          const docLinkHtml = 'Like what you see? Visit the ' +\n",
              "            '<a target=\"_blank\" href=https://colab.research.google.com/notebooks/data_table.ipynb>data table notebook</a>'\n",
              "            + ' to learn more about interactive tables.';\n",
              "          element.innerHTML = '';\n",
              "          dataTable['output_type'] = 'display_data';\n",
              "          await google.colab.output.renderOutput(dataTable, element);\n",
              "          const docLink = document.createElement('div');\n",
              "          docLink.innerHTML = docLinkHtml;\n",
              "          element.appendChild(docLink);\n",
              "        }\n",
              "      </script>\n",
              "    </div>\n",
              "  </div>\n",
              "  "
            ],
            "text/plain": [
              "             source                                       target  \\\n",
              "0  Au_ani_00044.jpg  Tp_S_NNN_S_B_ani00044_ani00044_00164_gt.png   \n",
              "1  Au_pla_20019.jpg  Tp_S_NRD_S_N_pla20019_pla20019_02390_gt.png   \n",
              "2  Au_sec_00057.jpg  Tp_D_NRD_M_N_sec00057_nat00001_00078_gt.png   \n",
              "3  Au_art_00070.jpg  Tp_S_NNN_S_B_art00070_art00070_01241_gt.png   \n",
              "4  Au_nat_20039.jpg  Tp_D_NRD_S_B_nat20039_arc20055_02239_gt.png   \n",
              "\n",
              "                                   tampered  \n",
              "0  Tp_S_NNN_S_B_ani00044_ani00044_00164.tif  \n",
              "1  Tp_S_NRD_S_N_pla20019_pla20019_02390.tif  \n",
              "2  Tp_D_NRD_M_N_sec00057_nat00001_00078.tif  \n",
              "3  Tp_S_NNN_S_B_art00070_art00070_01241.tif  \n",
              "4  Tp_D_NRD_S_B_nat20039_arc20055_02239.tif  "
            ]
          },
          "execution_count": 4,
          "metadata": {},
          "output_type": "execute_result"
        }
      ],
      "source": [
        "# Reading a smaller portion of dataset\n",
        "df = pd.read_csv('/content/drive/MyDrive/NG Hack Week/hundred.csv')\n",
        "df.head()"
      ]
    },
    {
      "cell_type": "code",
      "execution_count": 11,
      "metadata": {
        "colab": {
          "base_uri": "https://localhost:8080/"
        },
        "id": "04zt66dIU56-",
        "outputId": "d9673501-c6b9-4eb6-d394-ffa57be673f2"
      },
      "outputs": [
        {
          "data": {
            "text/plain": [
              "1100"
            ]
          },
          "execution_count": 11,
          "metadata": {},
          "output_type": "execute_result"
        }
      ],
      "source": [
        "total_original = df['source']\n",
        "total_tampered = df['tampered']\n",
        "len(total_original)"
      ]
    },
    {
      "cell_type": "code",
      "execution_count": 6,
      "metadata": {
        "id": "jQi6DkvrrSYC"
      },
      "outputs": [],
      "source": [
        "#https://gist.github.com/cirocosta/33c758ad77e6e6531392\n",
        "#error level analysis of an image\n",
        "def ELA(img_path):\n",
        "    \"\"\"Performs Error Level Analysis over a directory of images\"\"\"\n",
        "    \n",
        "    TEMP = 'ela_' + 'temp.jpg'\n",
        "    SCALE = 10\n",
        "    original = Image.open(img_path)\n",
        "    try:\n",
        "        original.save(TEMP, quality=90)\n",
        "        temporary = Image.open(TEMP)\n",
        "        diff = ImageChops.difference(original, temporary)\n",
        "        \n",
        "    except:\n",
        "        \n",
        "        original.convert('RGB').save(TEMP, quality=90)\n",
        "        temporary = Image.open(TEMP)\n",
        "        diff = ImageChops.difference(original.convert('RGB'), temporary)\n",
        "        \n",
        "       \n",
        "    d = diff.load()\n",
        "    \n",
        "    WIDTH, HEIGHT = diff.size\n",
        "    for x in range(WIDTH):\n",
        "        for y in range(HEIGHT):\n",
        "            # print(d[x,y])\n",
        "            d[x, y] = tuple(k * SCALE for k in d[x, y])\n",
        "\n",
        "    return diff\n"
      ]
    },
    {
      "cell_type": "code",
      "execution_count": null,
      "metadata": {
        "id": "arOksnhmrSkf"
      },
      "outputs": [],
      "source": [
        "orig_img = Image.open('/content/CASIA2.0_revised/Au/Au_ani_00001.jpg')\n",
        "display(orig_img)"
      ]
    },
    {
      "cell_type": "code",
      "execution_count": null,
      "metadata": {
        "id": "x1yjk_WXsMDk"
      },
      "outputs": [],
      "source": [
        "ELA('/content/CASIA2.0_revised/Au/Au_ani_00001.jpg')"
      ]
    },
    {
      "cell_type": "code",
      "execution_count": null,
      "metadata": {
        "id": "cpIwGI2asMFy"
      },
      "outputs": [],
      "source": [
        "tampered_img = Image.open('/content/CASIA2.0_revised/Tp/Tp_S_NRD_S_N_ani00001_ani00001_00014.tif')\n",
        "display(tampered_img)"
      ]
    },
    {
      "cell_type": "code",
      "execution_count": null,
      "metadata": {
        "id": "M737INZxsMIJ"
      },
      "outputs": [],
      "source": [
        "ELA('/content/CASIA2.0_revised/Tp/Tp_S_NRD_S_N_ani00001_ani00001_00014.tif')"
      ]
    },
    {
      "cell_type": "code",
      "execution_count": 7,
      "metadata": {
        "id": "ooplFFrCsMKl"
      },
      "outputs": [],
      "source": [
        "path_original = '/content/CASIA2.0_revised/Au/'\n",
        "path_tampered = '/content/CASIA2.0_revised/Tp/'\n",
        "\n",
        "# total_original = os.listdir(path_original)\n",
        "# total_tampered = os.listdir(path_tampered)"
      ]
    },
    {
      "cell_type": "code",
      "execution_count": 12,
      "metadata": {
        "colab": {
          "base_uri": "https://localhost:8080/"
        },
        "id": "3gr1KdabtcbZ",
        "outputId": "5de8ecb7-0a97-44db-b597-4ddecf83110f"
      },
      "outputs": [
        {
          "data": {
            "text/plain": [
              "1100"
            ]
          },
          "execution_count": 12,
          "metadata": {},
          "output_type": "execute_result"
        }
      ],
      "source": [
        "len(total_original)"
      ]
    },
    {
      "cell_type": "code",
      "execution_count": 13,
      "metadata": {
        "colab": {
          "base_uri": "https://localhost:8080/"
        },
        "id": "NMd1jvYItcd4",
        "outputId": "75cbf9c5-8f5e-4ffb-8b89-aa3739855959"
      },
      "outputs": [
        {
          "data": {
            "text/plain": [
              "1100"
            ]
          },
          "execution_count": 13,
          "metadata": {},
          "output_type": "execute_result"
        }
      ],
      "source": [
        "len(total_tampered)"
      ]
    },
    {
      "cell_type": "code",
      "execution_count": 14,
      "metadata": {
        "id": "-Ib7hlaPtcgb"
      },
      "outputs": [],
      "source": [
        "images = []\n",
        "\n",
        "for file in total_original:\n",
        "# for file in os.listdir(path_original):\n",
        "    try:\n",
        "        if file.endswith('jpg'):\n",
        "            if int(os.stat(path_original + file).st_size) > 10000:\n",
        "                line = path_original + file  + ',0\\n'\n",
        "                images.append(line)\n",
        "    except:\n",
        "        print(path_original+file)\n",
        "\n"
      ]
    },
    {
      "cell_type": "code",
      "execution_count": 15,
      "metadata": {
        "id": "d3E9oacitci8"
      },
      "outputs": [],
      "source": [
        "for file in total_tampered:\n",
        "# for file in os.listdir(path_tampered):\n",
        "    try:\n",
        "        if file.endswith('jpg'):\n",
        "            if int(os.stat(path_tampered + file).st_size) > 10000:\n",
        "                    line = path_tampered + file + ',1\\n'\n",
        "                    images.append(line)\n",
        "        if file.endswith('tif'):\n",
        "            if int(os.stat(path_tampered + file).st_size) > 10000:\n",
        "                    line = path_tampered + file + ',1\\n'\n",
        "                    images.append(line)\n",
        "    except:\n",
        "          print(path_tampered+file)\n",
        "\n"
      ]
    },
    {
      "cell_type": "code",
      "execution_count": 16,
      "metadata": {
        "colab": {
          "base_uri": "https://localhost:8080/"
        },
        "id": "5V2MpsP9t1ZT",
        "outputId": "2d50a579-349c-4966-d288-df783c4a2b23"
      },
      "outputs": [
        {
          "data": {
            "text/plain": [
              "2131"
            ]
          },
          "execution_count": 16,
          "metadata": {},
          "output_type": "execute_result"
        }
      ],
      "source": [
        "len(images)"
      ]
    },
    {
      "cell_type": "code",
      "execution_count": 17,
      "metadata": {
        "colab": {
          "base_uri": "https://localhost:8080/"
        },
        "id": "nhL2Z4a4t1be",
        "outputId": "3deded02-61dc-46b7-9c9c-a3f73bf59bf6"
      },
      "outputs": [
        {
          "name": "stderr",
          "output_type": "stream",
          "text": [
            "100%|██████████| 2131/2131 [00:00<00:00, 275000.36it/s]\n"
          ]
        }
      ],
      "source": [
        "image_name = []\n",
        "label = []\n",
        "for i in tqdm(range(len(images))):\n",
        "    image_name.append(images[i][0:-3])\n",
        "    label.append(images[i][-2])"
      ]
    },
    {
      "cell_type": "code",
      "execution_count": 18,
      "metadata": {
        "id": "E1L_u7tht1d7"
      },
      "outputs": [],
      "source": [
        "dataset = pd.DataFrame({'image':image_name,'class_label':label})"
      ]
    },
    {
      "cell_type": "code",
      "execution_count": 19,
      "metadata": {
        "colab": {
          "base_uri": "https://localhost:8080/"
        },
        "id": "Pzg6_onJt1gl",
        "outputId": "06d00345-1068-473a-8560-a1a00b731ea0"
      },
      "outputs": [
        {
          "data": {
            "text/plain": [
              "1    1100\n",
              "0    1031\n",
              "Name: class_label, dtype: int64"
            ]
          },
          "execution_count": 19,
          "metadata": {},
          "output_type": "execute_result"
        }
      ],
      "source": [
        "dataset['class_label'].value_counts()\n"
      ]
    },
    {
      "cell_type": "code",
      "execution_count": null,
      "metadata": {
        "colab": {
          "base_uri": "https://localhost:8080/",
          "height": 206
        },
        "id": "hoEWlhrBt1i3",
        "outputId": "f7ef7662-a41a-4197-f015-84e20c6c85fc"
      },
      "outputs": [
        {
          "data": {
            "text/html": [
              "\n",
              "  <div id=\"df-a1f5106e-04ce-4ed2-9330-3f17fd2d7faa\">\n",
              "    <div class=\"colab-df-container\">\n",
              "      <div>\n",
              "<style scoped>\n",
              "    .dataframe tbody tr th:only-of-type {\n",
              "        vertical-align: middle;\n",
              "    }\n",
              "\n",
              "    .dataframe tbody tr th {\n",
              "        vertical-align: top;\n",
              "    }\n",
              "\n",
              "    .dataframe thead th {\n",
              "        text-align: right;\n",
              "    }\n",
              "</style>\n",
              "<table border=\"1\" class=\"dataframe\">\n",
              "  <thead>\n",
              "    <tr style=\"text-align: right;\">\n",
              "      <th></th>\n",
              "      <th>image</th>\n",
              "      <th>class_label</th>\n",
              "    </tr>\n",
              "  </thead>\n",
              "  <tbody>\n",
              "    <tr>\n",
              "      <th>0</th>\n",
              "      <td>/content/CASIA2.0_revised/Au/Au_ani_00044.jpg</td>\n",
              "      <td>0</td>\n",
              "    </tr>\n",
              "    <tr>\n",
              "      <th>1</th>\n",
              "      <td>/content/CASIA2.0_revised/Au/Au_pla_20019.jpg</td>\n",
              "      <td>0</td>\n",
              "    </tr>\n",
              "    <tr>\n",
              "      <th>2</th>\n",
              "      <td>/content/CASIA2.0_revised/Au/Au_sec_00057.jpg</td>\n",
              "      <td>0</td>\n",
              "    </tr>\n",
              "    <tr>\n",
              "      <th>3</th>\n",
              "      <td>/content/CASIA2.0_revised/Au/Au_art_00070.jpg</td>\n",
              "      <td>0</td>\n",
              "    </tr>\n",
              "    <tr>\n",
              "      <th>4</th>\n",
              "      <td>/content/CASIA2.0_revised/Au/Au_nat_20039.jpg</td>\n",
              "      <td>0</td>\n",
              "    </tr>\n",
              "  </tbody>\n",
              "</table>\n",
              "</div>\n",
              "      <button class=\"colab-df-convert\" onclick=\"convertToInteractive('df-a1f5106e-04ce-4ed2-9330-3f17fd2d7faa')\"\n",
              "              title=\"Convert this dataframe to an interactive table.\"\n",
              "              style=\"display:none;\">\n",
              "        \n",
              "  <svg xmlns=\"http://www.w3.org/2000/svg\" height=\"24px\"viewBox=\"0 0 24 24\"\n",
              "       width=\"24px\">\n",
              "    <path d=\"M0 0h24v24H0V0z\" fill=\"none\"/>\n",
              "    <path d=\"M18.56 5.44l.94 2.06.94-2.06 2.06-.94-2.06-.94-.94-2.06-.94 2.06-2.06.94zm-11 1L8.5 8.5l.94-2.06 2.06-.94-2.06-.94L8.5 2.5l-.94 2.06-2.06.94zm10 10l.94 2.06.94-2.06 2.06-.94-2.06-.94-.94-2.06-.94 2.06-2.06.94z\"/><path d=\"M17.41 7.96l-1.37-1.37c-.4-.4-.92-.59-1.43-.59-.52 0-1.04.2-1.43.59L10.3 9.45l-7.72 7.72c-.78.78-.78 2.05 0 2.83L4 21.41c.39.39.9.59 1.41.59.51 0 1.02-.2 1.41-.59l7.78-7.78 2.81-2.81c.8-.78.8-2.07 0-2.86zM5.41 20L4 18.59l7.72-7.72 1.47 1.35L5.41 20z\"/>\n",
              "  </svg>\n",
              "      </button>\n",
              "      \n",
              "  <style>\n",
              "    .colab-df-container {\n",
              "      display:flex;\n",
              "      flex-wrap:wrap;\n",
              "      gap: 12px;\n",
              "    }\n",
              "\n",
              "    .colab-df-convert {\n",
              "      background-color: #E8F0FE;\n",
              "      border: none;\n",
              "      border-radius: 50%;\n",
              "      cursor: pointer;\n",
              "      display: none;\n",
              "      fill: #1967D2;\n",
              "      height: 32px;\n",
              "      padding: 0 0 0 0;\n",
              "      width: 32px;\n",
              "    }\n",
              "\n",
              "    .colab-df-convert:hover {\n",
              "      background-color: #E2EBFA;\n",
              "      box-shadow: 0px 1px 2px rgba(60, 64, 67, 0.3), 0px 1px 3px 1px rgba(60, 64, 67, 0.15);\n",
              "      fill: #174EA6;\n",
              "    }\n",
              "\n",
              "    [theme=dark] .colab-df-convert {\n",
              "      background-color: #3B4455;\n",
              "      fill: #D2E3FC;\n",
              "    }\n",
              "\n",
              "    [theme=dark] .colab-df-convert:hover {\n",
              "      background-color: #434B5C;\n",
              "      box-shadow: 0px 1px 3px 1px rgba(0, 0, 0, 0.15);\n",
              "      filter: drop-shadow(0px 1px 2px rgba(0, 0, 0, 0.3));\n",
              "      fill: #FFFFFF;\n",
              "    }\n",
              "  </style>\n",
              "\n",
              "      <script>\n",
              "        const buttonEl =\n",
              "          document.querySelector('#df-a1f5106e-04ce-4ed2-9330-3f17fd2d7faa button.colab-df-convert');\n",
              "        buttonEl.style.display =\n",
              "          google.colab.kernel.accessAllowed ? 'block' : 'none';\n",
              "\n",
              "        async function convertToInteractive(key) {\n",
              "          const element = document.querySelector('#df-a1f5106e-04ce-4ed2-9330-3f17fd2d7faa');\n",
              "          const dataTable =\n",
              "            await google.colab.kernel.invokeFunction('convertToInteractive',\n",
              "                                                     [key], {});\n",
              "          if (!dataTable) return;\n",
              "\n",
              "          const docLinkHtml = 'Like what you see? Visit the ' +\n",
              "            '<a target=\"_blank\" href=https://colab.research.google.com/notebooks/data_table.ipynb>data table notebook</a>'\n",
              "            + ' to learn more about interactive tables.';\n",
              "          element.innerHTML = '';\n",
              "          dataTable['output_type'] = 'display_data';\n",
              "          await google.colab.output.renderOutput(dataTable, element);\n",
              "          const docLink = document.createElement('div');\n",
              "          docLink.innerHTML = docLinkHtml;\n",
              "          element.appendChild(docLink);\n",
              "        }\n",
              "      </script>\n",
              "    </div>\n",
              "  </div>\n",
              "  "
            ],
            "text/plain": [
              "                                           image class_label\n",
              "0  /content/CASIA2.0_revised/Au/Au_ani_00044.jpg           0\n",
              "1  /content/CASIA2.0_revised/Au/Au_pla_20019.jpg           0\n",
              "2  /content/CASIA2.0_revised/Au/Au_sec_00057.jpg           0\n",
              "3  /content/CASIA2.0_revised/Au/Au_art_00070.jpg           0\n",
              "4  /content/CASIA2.0_revised/Au/Au_nat_20039.jpg           0"
            ]
          },
          "execution_count": 16,
          "metadata": {},
          "output_type": "execute_result"
        }
      ],
      "source": [
        "dataset.head()"
      ]
    },
    {
      "cell_type": "code",
      "execution_count": 20,
      "metadata": {
        "id": "62ntJ8aWt1lZ"
      },
      "outputs": [],
      "source": [
        "dataset.to_csv('dataset_casa2.csv',index=False)"
      ]
    },
    {
      "cell_type": "code",
      "execution_count": 21,
      "metadata": {
        "id": "vNi3DKY9sMM_"
      },
      "outputs": [],
      "source": [
        "dataset = pd.read_csv('dataset_casa2.csv')"
      ]
    },
    {
      "cell_type": "code",
      "execution_count": 23,
      "metadata": {
        "colab": {
          "base_uri": "https://localhost:8080/"
        },
        "id": "c98BprbRsMPb",
        "outputId": "593a17e3-5e70-470b-a035-a2efcfdf6fa0"
      },
      "outputs": [
        {
          "data": {
            "text/plain": [
              "2131"
            ]
          },
          "execution_count": 23,
          "metadata": {},
          "output_type": "execute_result"
        }
      ],
      "source": [
        "len(dataset)"
      ]
    },
    {
      "cell_type": "code",
      "execution_count": 22,
      "metadata": {
        "id": "Yndr5IOxuEd2"
      },
      "outputs": [],
      "source": [
        "x_casia = []\n",
        "y_casia = []"
      ]
    },
    {
      "cell_type": "markdown",
      "metadata": {
        "id": "3uqQ543uut-P"
      },
      "source": [
        "Below takes a while"
      ]
    },
    {
      "cell_type": "code",
      "execution_count": 24,
      "metadata": {
        "id": "D39229SVuEf2"
      },
      "outputs": [],
      "source": [
        "for _, row in dataset.iterrows():\n",
        "    x_casia.append(np.array(ELA(row[0]).resize((128, 128))).flatten() / 255.0)\n",
        "    y_casia.append(row[1])"
      ]
    },
    {
      "cell_type": "code",
      "execution_count": 25,
      "metadata": {
        "id": "11hlJKuzuEh4"
      },
      "outputs": [],
      "source": [
        "#converting X and Y to numpy arrays\n",
        "x_casia = np.array(x_casia)\n",
        "y_casia = np.array(y_casia)\n"
      ]
    },
    {
      "cell_type": "code",
      "execution_count": 26,
      "metadata": {
        "colab": {
          "base_uri": "https://localhost:8080/"
        },
        "id": "qV2uvwBwuEkQ",
        "outputId": "ebf6b95c-a21d-4839-bac0-e703d12d541e"
      },
      "outputs": [
        {
          "data": {
            "text/plain": [
              "array([[[0., 0., 0.],\n",
              "        [0., 0., 0.],\n",
              "        [0., 0., 0.],\n",
              "        ...,\n",
              "        [0., 0., 0.],\n",
              "        [0., 0., 0.],\n",
              "        [0., 0., 0.]],\n",
              "\n",
              "       [[0., 0., 0.],\n",
              "        [0., 0., 0.],\n",
              "        [0., 0., 0.],\n",
              "        ...,\n",
              "        [0., 0., 0.],\n",
              "        [0., 0., 0.],\n",
              "        [0., 0., 0.]],\n",
              "\n",
              "       [[0., 0., 0.],\n",
              "        [0., 0., 0.],\n",
              "        [0., 0., 0.],\n",
              "        ...,\n",
              "        [0., 0., 0.],\n",
              "        [0., 0., 0.],\n",
              "        [0., 0., 0.]],\n",
              "\n",
              "       ...,\n",
              "\n",
              "       [[0., 0., 0.],\n",
              "        [0., 0., 0.],\n",
              "        [0., 0., 0.],\n",
              "        ...,\n",
              "        [0., 0., 0.],\n",
              "        [0., 0., 0.],\n",
              "        [0., 0., 0.]],\n",
              "\n",
              "       [[0., 0., 0.],\n",
              "        [0., 0., 0.],\n",
              "        [0., 0., 0.],\n",
              "        ...,\n",
              "        [0., 0., 0.],\n",
              "        [0., 0., 0.],\n",
              "        [0., 0., 0.]],\n",
              "\n",
              "       [[0., 0., 0.],\n",
              "        [0., 0., 0.],\n",
              "        [0., 0., 0.],\n",
              "        ...,\n",
              "        [0., 0., 0.],\n",
              "        [0., 0., 0.],\n",
              "        [0., 0., 0.]]])"
            ]
          },
          "execution_count": 26,
          "metadata": {},
          "output_type": "execute_result"
        }
      ],
      "source": [
        "x_casia = x_casia.reshape(-1, 128, 128, 3)\n",
        "x_casia[0]"
      ]
    },
    {
      "cell_type": "code",
      "execution_count": 27,
      "metadata": {
        "colab": {
          "base_uri": "https://localhost:8080/"
        },
        "id": "xPK738z2uEmr",
        "outputId": "b32a40b1-4e7f-483d-d75f-515fdcdd7916"
      },
      "outputs": [
        {
          "data": {
            "text/plain": [
              "array([1., 0.], dtype=float32)"
            ]
          },
          "execution_count": 27,
          "metadata": {},
          "output_type": "execute_result"
        }
      ],
      "source": [
        "y_casia = to_categorical(y_casia, 2) #y is one hot encoded\n",
        "y_casia[0] "
      ]
    },
    {
      "cell_type": "code",
      "execution_count": 28,
      "metadata": {
        "colab": {
          "base_uri": "https://localhost:8080/"
        },
        "id": "YvdTJRB1uEoz",
        "outputId": "a6e24fc4-c097-4162-9acd-5d6ffa2f3f90"
      },
      "outputs": [
        {
          "data": {
            "text/plain": [
              "2131"
            ]
          },
          "execution_count": 28,
          "metadata": {},
          "output_type": "execute_result"
        }
      ],
      "source": [
        "len(x_casia)"
      ]
    },
    {
      "cell_type": "code",
      "execution_count": 29,
      "metadata": {
        "id": "39mAXkIDuErQ"
      },
      "outputs": [],
      "source": [
        "from numpy import save\n",
        "## save all the data \n",
        "save('X_casia.npy', x_casia)\n",
        "save('Y_casia.npy',y_casia)"
      ]
    },
    {
      "cell_type": "code",
      "execution_count": 30,
      "metadata": {
        "id": "9940uqGAuEtZ"
      },
      "outputs": [],
      "source": [
        "from numpy import load\n",
        "x_casia = load('X_casia.npy')\n",
        "y_casia = load('Y_casia.npy')"
      ]
    },
    {
      "cell_type": "code",
      "execution_count": 31,
      "metadata": {
        "id": "pFaomHIWuEvu"
      },
      "outputs": [],
      "source": [
        "X_train, X_val, Y_train, Y_val = train_test_split(x_casia, y_casia, test_size = 0.2, random_state=5)"
      ]
    },
    {
      "cell_type": "code",
      "execution_count": null,
      "metadata": {
        "colab": {
          "base_uri": "https://localhost:8080/"
        },
        "id": "IPuWVhMSPhoE",
        "outputId": "4f7918ad-3c3c-4f85-8746-282e4494e68a"
      },
      "outputs": [
        {
          "data": {
            "text/plain": [
              "array([[0., 1.],\n",
              "       [1., 0.],\n",
              "       [0., 1.],\n",
              "       [0., 1.],\n",
              "       [0., 1.],\n",
              "       [0., 1.],\n",
              "       [1., 0.],\n",
              "       [1., 0.],\n",
              "       [1., 0.],\n",
              "       [1., 0.],\n",
              "       [1., 0.],\n",
              "       [0., 1.],\n",
              "       [1., 0.],\n",
              "       [0., 1.],\n",
              "       [0., 1.],\n",
              "       [1., 0.]], dtype=float32)"
            ]
          },
          "execution_count": 53,
          "metadata": {},
          "output_type": "execute_result"
        }
      ],
      "source": []
    },
    {
      "cell_type": "code",
      "execution_count": 32,
      "metadata": {
        "id": "HstS9FnPuEx7"
      },
      "outputs": [],
      "source": [
        "model = Sequential()\n",
        "\n",
        "model.add(Conv2D(filters = 32, kernel_size = (5,5),padding = 'valid', \n",
        "                 activation ='relu', input_shape = (128,128,3)))\n",
        "model.add(Conv2D(filters = 32, kernel_size = (5,5),padding = 'valid', \n",
        "                 activation ='relu'))\n",
        "model.add(MaxPool2D(pool_size=(2,2)))\n",
        "model.add(Dropout(0.25))\n",
        "model.add(Flatten())\n",
        "model.add(Dense(256, activation = \"relu\"))\n",
        "model.add(Dropout(0.5))\n",
        "model.add(Dense(2, activation = \"softmax\"))"
      ]
    },
    {
      "cell_type": "code",
      "execution_count": 33,
      "metadata": {
        "id": "t2Y_VkcGuE0L"
      },
      "outputs": [],
      "source": [
        "optimizer = Adam()"
      ]
    },
    {
      "cell_type": "code",
      "execution_count": 34,
      "metadata": {
        "id": "2yYfeQfMuE2W"
      },
      "outputs": [],
      "source": [
        "model.compile(optimizer = optimizer , loss = \"categorical_crossentropy\", metrics=[\"accuracy\"])"
      ]
    },
    {
      "cell_type": "code",
      "execution_count": 35,
      "metadata": {
        "colab": {
          "base_uri": "https://localhost:8080/"
        },
        "id": "VOzL1OIIuE4g",
        "outputId": "57234edf-7b6a-43d7-dd04-0daa96927a0a"
      },
      "outputs": [
        {
          "name": "stdout",
          "output_type": "stream",
          "text": [
            "Model: \"sequential\"\n",
            "_________________________________________________________________\n",
            " Layer (type)                Output Shape              Param #   \n",
            "=================================================================\n",
            " conv2d (Conv2D)             (None, 124, 124, 32)      2432      \n",
            "                                                                 \n",
            " conv2d_1 (Conv2D)           (None, 120, 120, 32)      25632     \n",
            "                                                                 \n",
            " max_pooling2d (MaxPooling2D  (None, 60, 60, 32)       0         \n",
            " )                                                               \n",
            "                                                                 \n",
            " dropout (Dropout)           (None, 60, 60, 32)        0         \n",
            "                                                                 \n",
            " flatten (Flatten)           (None, 115200)            0         \n",
            "                                                                 \n",
            " dense (Dense)               (None, 256)               29491456  \n",
            "                                                                 \n",
            " dropout_1 (Dropout)         (None, 256)               0         \n",
            "                                                                 \n",
            " dense_1 (Dense)             (None, 2)                 514       \n",
            "                                                                 \n",
            "=================================================================\n",
            "Total params: 29,520,034\n",
            "Trainable params: 29,520,034\n",
            "Non-trainable params: 0\n",
            "_________________________________________________________________\n"
          ]
        }
      ],
      "source": [
        "model.summary()"
      ]
    },
    {
      "cell_type": "code",
      "execution_count": 38,
      "metadata": {
        "id": "5l8ioZIGuE6w"
      },
      "outputs": [],
      "source": [
        "early_stopping = EarlyStopping(monitor='val_loss',\n",
        "                              min_delta=0,\n",
        "                              patience=2,\n",
        "                              verbose=1, mode='auto')"
      ]
    },
    {
      "cell_type": "code",
      "execution_count": 44,
      "metadata": {
        "id": "YcapvV-rkTvp"
      },
      "outputs": [],
      "source": [
        "os.makedirs('model_checkpoints')\n",
        "# define callbacks for learning rate scheduling and best checkpoints saving\n",
        "filepath = 'model_checkpoints/model_phase_2.hdf5'\n",
        "checkpoint = keras.callbacks.ModelCheckpoint(filepath,monitor='val_metric',save_best_only=True, mode='max')"
      ]
    },
    {
      "cell_type": "code",
      "execution_count": 45,
      "metadata": {
        "colab": {
          "base_uri": "https://localhost:8080/"
        },
        "id": "CaxY9B0nu-MB",
        "outputId": "d2a1fe6c-3fb7-4e3e-c44e-5104aeb99566"
      },
      "outputs": [
        {
          "name": "stdout",
          "output_type": "stream",
          "text": [
            "Epoch 1/10\n",
            "18/18 [==============================] - 187s 10s/step - loss: 0.5660 - accuracy: 0.6978 - val_loss: 0.5723 - val_accuracy: 0.7049\n",
            "Epoch 2/10\n",
            "18/18 [==============================] - 184s 10s/step - loss: 0.5299 - accuracy: 0.7277 - val_loss: 0.5889 - val_accuracy: 0.6815\n",
            "Epoch 3/10\n",
            "18/18 [==============================] - 183s 10s/step - loss: 0.4634 - accuracy: 0.7612 - val_loss: 0.5443 - val_accuracy: 0.7026\n",
            "Epoch 4/10\n",
            "18/18 [==============================] - 185s 10s/step - loss: 0.4332 - accuracy: 0.7746 - val_loss: 0.5211 - val_accuracy: 0.7283\n",
            "Epoch 5/10\n",
            "18/18 [==============================] - 182s 10s/step - loss: 0.3621 - accuracy: 0.8345 - val_loss: 0.6147 - val_accuracy: 0.7096\n",
            "Epoch 6/10\n",
            "18/18 [==============================] - 185s 10s/step - loss: 0.3246 - accuracy: 0.8468 - val_loss: 0.5689 - val_accuracy: 0.7494\n",
            "Epoch 6: early stopping\n"
          ]
        }
      ],
      "source": [
        "history = model.fit(X_train, Y_train, batch_size = 100, epochs = 10, \n",
        "          validation_data = (X_val, Y_val), verbose = 1, callbacks=[early_stopping])"
      ]
    },
    {
      "cell_type": "markdown",
      "metadata": {
        "id": "HdLVs1SswraH"
      },
      "source": [
        "Get to after .save to saveeeeeee"
      ]
    },
    {
      "cell_type": "code",
      "execution_count": 46,
      "metadata": {
        "id": "GZ--BgLiu-N-"
      },
      "outputs": [],
      "source": [
        "model.save('new_model_casia.h5')"
      ]
    },
    {
      "cell_type": "code",
      "execution_count": null,
      "metadata": {
        "id": "AQbEACxPNt5a"
      },
      "outputs": [],
      "source": []
    },
    {
      "cell_type": "code",
      "execution_count": 47,
      "metadata": {
        "colab": {
          "base_uri": "https://localhost:8080/",
          "height": 677
        },
        "id": "ugmunPUIu-Qw",
        "outputId": "732b76b3-6d8b-474b-9b5e-c9ff151d99e1"
      },
      "outputs": [
        {
          "name": "stdout",
          "output_type": "stream",
          "text": [
            "[0, 1, 2, 3, 4]\n",
            "[0.5660350322723389, 0.5298526883125305, 0.463440865278244, 0.4332418739795685, 0.3620733916759491, 0.3245522677898407]\n"
          ]
        },
        {
          "ename": "ValueError",
          "evalue": "ignored",
          "output_type": "error",
          "traceback": [
            "\u001b[0;31m---------------------------------------------------------------------------\u001b[0m",
            "\u001b[0;31mValueError\u001b[0m                                Traceback (most recent call last)",
            "\u001b[0;32m<ipython-input-47-b4a58f673a06>\u001b[0m in \u001b[0;36m<module>\u001b[0;34m\u001b[0m\n\u001b[1;32m     21\u001b[0m \u001b[0my3\u001b[0m \u001b[0;34m=\u001b[0m \u001b[0mhistory\u001b[0m\u001b[0;34m.\u001b[0m\u001b[0mhistory\u001b[0m\u001b[0;34m[\u001b[0m\u001b[0;34m'val_loss'\u001b[0m\u001b[0;34m]\u001b[0m\u001b[0;34m\u001b[0m\u001b[0;34m\u001b[0m\u001b[0m\n\u001b[1;32m     22\u001b[0m \u001b[0my4\u001b[0m \u001b[0;34m=\u001b[0m \u001b[0mhistory\u001b[0m\u001b[0;34m.\u001b[0m\u001b[0mhistory\u001b[0m\u001b[0;34m[\u001b[0m\u001b[0;34m'val_accuracy'\u001b[0m\u001b[0;34m]\u001b[0m\u001b[0;34m\u001b[0m\u001b[0;34m\u001b[0m\u001b[0m\n\u001b[0;32m---> 23\u001b[0;31m \u001b[0mp1\u001b[0m\u001b[0;34m.\u001b[0m\u001b[0mplot\u001b[0m\u001b[0;34m(\u001b[0m\u001b[0mx\u001b[0m\u001b[0;34m,\u001b[0m\u001b[0my\u001b[0m\u001b[0;34m,\u001b[0m \u001b[0;34m'r'\u001b[0m\u001b[0;34m,\u001b[0m \u001b[0mlabel\u001b[0m\u001b[0;34m=\u001b[0m\u001b[0;34m'train_loss'\u001b[0m\u001b[0;34m)\u001b[0m\u001b[0;34m\u001b[0m\u001b[0;34m\u001b[0m\u001b[0m\n\u001b[0m\u001b[1;32m     24\u001b[0m \u001b[0mp1\u001b[0m\u001b[0;34m.\u001b[0m\u001b[0mlegend\u001b[0m\u001b[0;34m(\u001b[0m\u001b[0;34m)\u001b[0m\u001b[0;34m\u001b[0m\u001b[0;34m\u001b[0m\u001b[0m\n\u001b[1;32m     25\u001b[0m \u001b[0mp2\u001b[0m\u001b[0;34m.\u001b[0m\u001b[0mplot\u001b[0m\u001b[0;34m(\u001b[0m\u001b[0mx\u001b[0m\u001b[0;34m,\u001b[0m\u001b[0my2\u001b[0m\u001b[0;34m,\u001b[0m \u001b[0;34m'b'\u001b[0m\u001b[0;34m,\u001b[0m \u001b[0mlabel\u001b[0m\u001b[0;34m=\u001b[0m\u001b[0;34m'train_accuracy'\u001b[0m\u001b[0;34m)\u001b[0m\u001b[0;34m\u001b[0m\u001b[0;34m\u001b[0m\u001b[0m\n",
            "\u001b[0;32m/usr/local/lib/python3.8/dist-packages/matplotlib/axes/_axes.py\u001b[0m in \u001b[0;36mplot\u001b[0;34m(self, scalex, scaley, data, *args, **kwargs)\u001b[0m\n\u001b[1;32m   1645\u001b[0m         \"\"\"\n\u001b[1;32m   1646\u001b[0m         \u001b[0mkwargs\u001b[0m \u001b[0;34m=\u001b[0m \u001b[0mcbook\u001b[0m\u001b[0;34m.\u001b[0m\u001b[0mnormalize_kwargs\u001b[0m\u001b[0;34m(\u001b[0m\u001b[0mkwargs\u001b[0m\u001b[0;34m,\u001b[0m \u001b[0mmlines\u001b[0m\u001b[0;34m.\u001b[0m\u001b[0mLine2D\u001b[0m\u001b[0;34m)\u001b[0m\u001b[0;34m\u001b[0m\u001b[0;34m\u001b[0m\u001b[0m\n\u001b[0;32m-> 1647\u001b[0;31m         \u001b[0mlines\u001b[0m \u001b[0;34m=\u001b[0m \u001b[0;34m[\u001b[0m\u001b[0;34m*\u001b[0m\u001b[0mself\u001b[0m\u001b[0;34m.\u001b[0m\u001b[0m_get_lines\u001b[0m\u001b[0;34m(\u001b[0m\u001b[0;34m*\u001b[0m\u001b[0margs\u001b[0m\u001b[0;34m,\u001b[0m \u001b[0mdata\u001b[0m\u001b[0;34m=\u001b[0m\u001b[0mdata\u001b[0m\u001b[0;34m,\u001b[0m \u001b[0;34m**\u001b[0m\u001b[0mkwargs\u001b[0m\u001b[0;34m)\u001b[0m\u001b[0;34m]\u001b[0m\u001b[0;34m\u001b[0m\u001b[0;34m\u001b[0m\u001b[0m\n\u001b[0m\u001b[1;32m   1648\u001b[0m         \u001b[0;32mfor\u001b[0m \u001b[0mline\u001b[0m \u001b[0;32min\u001b[0m \u001b[0mlines\u001b[0m\u001b[0;34m:\u001b[0m\u001b[0;34m\u001b[0m\u001b[0;34m\u001b[0m\u001b[0m\n\u001b[1;32m   1649\u001b[0m             \u001b[0mself\u001b[0m\u001b[0;34m.\u001b[0m\u001b[0madd_line\u001b[0m\u001b[0;34m(\u001b[0m\u001b[0mline\u001b[0m\u001b[0;34m)\u001b[0m\u001b[0;34m\u001b[0m\u001b[0;34m\u001b[0m\u001b[0m\n",
            "\u001b[0;32m/usr/local/lib/python3.8/dist-packages/matplotlib/axes/_base.py\u001b[0m in \u001b[0;36m__call__\u001b[0;34m(self, *args, **kwargs)\u001b[0m\n\u001b[1;32m    214\u001b[0m                 \u001b[0mthis\u001b[0m \u001b[0;34m+=\u001b[0m \u001b[0margs\u001b[0m\u001b[0;34m[\u001b[0m\u001b[0;36m0\u001b[0m\u001b[0;34m]\u001b[0m\u001b[0;34m,\u001b[0m\u001b[0;34m\u001b[0m\u001b[0;34m\u001b[0m\u001b[0m\n\u001b[1;32m    215\u001b[0m                 \u001b[0margs\u001b[0m \u001b[0;34m=\u001b[0m \u001b[0margs\u001b[0m\u001b[0;34m[\u001b[0m\u001b[0;36m1\u001b[0m\u001b[0;34m:\u001b[0m\u001b[0;34m]\u001b[0m\u001b[0;34m\u001b[0m\u001b[0;34m\u001b[0m\u001b[0m\n\u001b[0;32m--> 216\u001b[0;31m             \u001b[0;32myield\u001b[0m \u001b[0;32mfrom\u001b[0m \u001b[0mself\u001b[0m\u001b[0;34m.\u001b[0m\u001b[0m_plot_args\u001b[0m\u001b[0;34m(\u001b[0m\u001b[0mthis\u001b[0m\u001b[0;34m,\u001b[0m \u001b[0mkwargs\u001b[0m\u001b[0;34m)\u001b[0m\u001b[0;34m\u001b[0m\u001b[0;34m\u001b[0m\u001b[0m\n\u001b[0m\u001b[1;32m    217\u001b[0m \u001b[0;34m\u001b[0m\u001b[0m\n\u001b[1;32m    218\u001b[0m     \u001b[0;32mdef\u001b[0m \u001b[0mget_next_color\u001b[0m\u001b[0;34m(\u001b[0m\u001b[0mself\u001b[0m\u001b[0;34m)\u001b[0m\u001b[0;34m:\u001b[0m\u001b[0;34m\u001b[0m\u001b[0;34m\u001b[0m\u001b[0m\n",
            "\u001b[0;32m/usr/local/lib/python3.8/dist-packages/matplotlib/axes/_base.py\u001b[0m in \u001b[0;36m_plot_args\u001b[0;34m(self, tup, kwargs)\u001b[0m\n\u001b[1;32m    340\u001b[0m \u001b[0;34m\u001b[0m\u001b[0m\n\u001b[1;32m    341\u001b[0m         \u001b[0;32mif\u001b[0m \u001b[0mx\u001b[0m\u001b[0;34m.\u001b[0m\u001b[0mshape\u001b[0m\u001b[0;34m[\u001b[0m\u001b[0;36m0\u001b[0m\u001b[0;34m]\u001b[0m \u001b[0;34m!=\u001b[0m \u001b[0my\u001b[0m\u001b[0;34m.\u001b[0m\u001b[0mshape\u001b[0m\u001b[0;34m[\u001b[0m\u001b[0;36m0\u001b[0m\u001b[0;34m]\u001b[0m\u001b[0;34m:\u001b[0m\u001b[0;34m\u001b[0m\u001b[0;34m\u001b[0m\u001b[0m\n\u001b[0;32m--> 342\u001b[0;31m             raise ValueError(f\"x and y must have same first dimension, but \"\n\u001b[0m\u001b[1;32m    343\u001b[0m                              f\"have shapes {x.shape} and {y.shape}\")\n\u001b[1;32m    344\u001b[0m         \u001b[0;32mif\u001b[0m \u001b[0mx\u001b[0m\u001b[0;34m.\u001b[0m\u001b[0mndim\u001b[0m \u001b[0;34m>\u001b[0m \u001b[0;36m2\u001b[0m \u001b[0;32mor\u001b[0m \u001b[0my\u001b[0m\u001b[0;34m.\u001b[0m\u001b[0mndim\u001b[0m \u001b[0;34m>\u001b[0m \u001b[0;36m2\u001b[0m\u001b[0;34m:\u001b[0m\u001b[0;34m\u001b[0m\u001b[0;34m\u001b[0m\u001b[0m\n",
            "\u001b[0;31mValueError\u001b[0m: x and y must have same first dimension, but have shapes (5,) and (6,)"
          ]
        },
        {
          "data": {
            "image/png": "[encoded data removed]",
            "text/plain": [
              "<Figure size 432x288 with 4 Axes>"
            ]
          },
          "metadata": {
            "needs_background": "light"
          },
          "output_type": "display_data"
        }
      ],
      "source": [
        "fig = plt.figure()\n",
        "p1 = fig.add_subplot(221)\n",
        "p2 = fig.add_subplot(222)\n",
        "p3 = fig.add_subplot(223)\n",
        "p4 = fig.add_subplot(224)\n",
        "p2.set_ylim(0,1)\n",
        "p4.set_ylim(0,1)\n",
        "p1.grid()\n",
        "p2.grid()\n",
        "p3.grid()\n",
        "p4.grid()\n",
        "p2.set_yticks(np.arange(0,1,0.1))\n",
        "p4.set_yticks(np.arange(0,1,0.1))\n",
        "x = [i for i in range(5)]\n",
        "y = history.history['loss']\n",
        "\n",
        "print(x)\n",
        "print(y)\n",
        "\n",
        "y2 = history.history['accuracy']\n",
        "y3 = history.history['val_loss']\n",
        "y4 = history.history['val_accuracy']\n",
        "p1.plot(x,y, 'r', label='train_loss')\n",
        "p1.legend()\n",
        "p2.plot(x,y2, 'b', label='train_accuracy')\n",
        "p2.legend()\n",
        "p3.plot(x,y3, 'r', label='val_loss')\n",
        "p3.legend()\n",
        "p4.plot(x,y4, 'b', label='val_accuracy')\n",
        "p4.legend()\n",
        "plt.show()"
      ]
    },
    {
      "cell_type": "code",
      "execution_count": 51,
      "metadata": {
        "colab": {
          "base_uri": "https://localhost:8080/"
        },
        "id": "FuJDRhEbvDuJ",
        "outputId": "ba4ee6d8-0962-44b1-8815-57f061855d44"
      },
      "outputs": [
        {
          "name": "stdout",
          "output_type": "stream",
          "text": [
            "14/14 [==============================] - 11s 765ms/step\n",
            "Precision score: 0.7531027616558623\n",
            "Recall score: 0.7494145199063232\n",
            "F1 score: 0.7482203672089297\n"
          ]
        },
        {
          "data": {
            "text/plain": [
              "array([[[[0.01960784, 0.03529412, 0.01176471],\n",
              "         [0.02352941, 0.02352941, 0.        ],\n",
              "         [0.03921569, 0.02352941, 0.01960784],\n",
              "         ...,\n",
              "         [0.00784314, 0.00784314, 0.02745098],\n",
              "         [0.01960784, 0.02352941, 0.05098039],\n",
              "         [0.03529412, 0.04313725, 0.08627451]],\n",
              "\n",
              "        [[0.0627451 , 0.03137255, 0.01176471],\n",
              "         [0.05490196, 0.03529412, 0.00784314],\n",
              "         [0.05490196, 0.01960784, 0.00784314],\n",
              "         ...,\n",
              "         [0.01176471, 0.01568627, 0.06666667],\n",
              "         [0.00784314, 0.01176471, 0.03921569],\n",
              "         [0.01176471, 0.01176471, 0.01960784]],\n",
              "\n",
              "        [[0.04705882, 0.02352941, 0.01960784],\n",
              "         [0.05098039, 0.02352941, 0.00784314],\n",
              "         [0.04705882, 0.01960784, 0.01960784],\n",
              "         ...,\n",
              "         [0.00784314, 0.02352941, 0.02745098],\n",
              "         [0.00392157, 0.01176471, 0.01568627],\n",
              "         [0.        , 0.00392157, 0.00392157]],\n",
              "\n",
              "        ...,\n",
              "\n",
              "        [[0.0627451 , 0.03137255, 0.03921569],\n",
              "         [0.05490196, 0.01960784, 0.04313725],\n",
              "         [0.0627451 , 0.05098039, 0.04313725],\n",
              "         ...,\n",
              "         [0.18823529, 0.12941176, 0.43137255],\n",
              "         [0.19215686, 0.12156863, 0.30980392],\n",
              "         [0.22352941, 0.12941176, 0.38039216]],\n",
              "\n",
              "        [[0.08627451, 0.04313725, 0.08627451],\n",
              "         [0.04313725, 0.03529412, 0.0627451 ],\n",
              "         [0.05098039, 0.04313725, 0.0745098 ],\n",
              "         ...,\n",
              "         [0.13333333, 0.10196078, 0.16862745],\n",
              "         [0.14901961, 0.1254902 , 0.34509804],\n",
              "         [0.22745098, 0.19215686, 0.23137255]],\n",
              "\n",
              "        [[0.13333333, 0.04705882, 0.09803922],\n",
              "         [0.10980392, 0.0627451 , 0.09019608],\n",
              "         [0.11764706, 0.04313725, 0.06666667],\n",
              "         ...,\n",
              "         [0.11764706, 0.15294118, 0.1254902 ],\n",
              "         [0.11764706, 0.09019608, 0.21568627],\n",
              "         [0.12156863, 0.10980392, 0.10980392]]],\n",
              "\n",
              "\n",
              "       [[[0.        , 0.        , 0.        ],\n",
              "         [0.        , 0.        , 0.        ],\n",
              "         [0.        , 0.        , 0.        ],\n",
              "         ...,\n",
              "         [0.        , 0.        , 0.        ],\n",
              "         [0.        , 0.        , 0.        ],\n",
              "         [0.        , 0.        , 0.        ]],\n",
              "\n",
              "        [[0.        , 0.        , 0.        ],\n",
              "         [0.        , 0.        , 0.        ],\n",
              "         [0.        , 0.        , 0.        ],\n",
              "         ...,\n",
              "         [0.        , 0.        , 0.        ],\n",
              "         [0.        , 0.        , 0.        ],\n",
              "         [0.        , 0.        , 0.        ]],\n",
              "\n",
              "        [[0.        , 0.        , 0.        ],\n",
              "         [0.        , 0.        , 0.        ],\n",
              "         [0.        , 0.        , 0.        ],\n",
              "         ...,\n",
              "         [0.        , 0.        , 0.        ],\n",
              "         [0.        , 0.        , 0.        ],\n",
              "         [0.        , 0.        , 0.        ]],\n",
              "\n",
              "        ...,\n",
              "\n",
              "        [[0.        , 0.        , 0.        ],\n",
              "         [0.        , 0.        , 0.        ],\n",
              "         [0.        , 0.        , 0.        ],\n",
              "         ...,\n",
              "         [0.        , 0.        , 0.        ],\n",
              "         [0.        , 0.        , 0.        ],\n",
              "         [0.        , 0.        , 0.        ]],\n",
              "\n",
              "        [[0.        , 0.        , 0.        ],\n",
              "         [0.        , 0.        , 0.        ],\n",
              "         [0.        , 0.        , 0.        ],\n",
              "         ...,\n",
              "         [0.        , 0.        , 0.        ],\n",
              "         [0.        , 0.        , 0.        ],\n",
              "         [0.        , 0.        , 0.        ]],\n",
              "\n",
              "        [[0.        , 0.        , 0.        ],\n",
              "         [0.        , 0.        , 0.        ],\n",
              "         [0.        , 0.        , 0.        ],\n",
              "         ...,\n",
              "         [0.        , 0.        , 0.        ],\n",
              "         [0.        , 0.        , 0.        ],\n",
              "         [0.        , 0.        , 0.        ]]],\n",
              "\n",
              "\n",
              "       [[[0.00784314, 0.00784314, 0.00784314],\n",
              "         [0.00784314, 0.00784314, 0.00784314],\n",
              "         [0.00392157, 0.00392157, 0.00392157],\n",
              "         ...,\n",
              "         [0.        , 0.        , 0.        ],\n",
              "         [0.        , 0.        , 0.        ],\n",
              "         [0.        , 0.        , 0.        ]],\n",
              "\n",
              "        [[0.01176471, 0.01176471, 0.01176471],\n",
              "         [0.00784314, 0.00784314, 0.00784314],\n",
              "         [0.00784314, 0.00784314, 0.00784314],\n",
              "         ...,\n",
              "         [0.        , 0.        , 0.        ],\n",
              "         [0.        , 0.        , 0.        ],\n",
              "         [0.        , 0.        , 0.        ]],\n",
              "\n",
              "        [[0.00392157, 0.00392157, 0.00392157],\n",
              "         [0.00784314, 0.00784314, 0.00784314],\n",
              "         [0.00392157, 0.00392157, 0.00392157],\n",
              "         ...,\n",
              "         [0.        , 0.        , 0.        ],\n",
              "         [0.        , 0.        , 0.        ],\n",
              "         [0.        , 0.        , 0.        ]],\n",
              "\n",
              "        ...,\n",
              "\n",
              "        [[0.10588235, 0.10980392, 0.10588235],\n",
              "         [0.1372549 , 0.1254902 , 0.1254902 ],\n",
              "         [0.09411765, 0.11764706, 0.09411765],\n",
              "         ...,\n",
              "         [0.00784314, 0.00784314, 0.00784314],\n",
              "         [0.00392157, 0.00392157, 0.00392157],\n",
              "         [0.00784314, 0.00784314, 0.00784314]],\n",
              "\n",
              "        [[0.20392157, 0.10980392, 0.12941176],\n",
              "         [0.1254902 , 0.07843137, 0.10196078],\n",
              "         [0.10196078, 0.07058824, 0.0627451 ],\n",
              "         ...,\n",
              "         [0.00392157, 0.00392157, 0.00392157],\n",
              "         [0.00392157, 0.00392157, 0.00392157],\n",
              "         [0.00392157, 0.00392157, 0.00392157]],\n",
              "\n",
              "        [[0.13333333, 0.09803922, 0.11764706],\n",
              "         [0.09019608, 0.05098039, 0.0745098 ],\n",
              "         [0.07058824, 0.02352941, 0.03529412],\n",
              "         ...,\n",
              "         [0.01568627, 0.01568627, 0.01568627],\n",
              "         [0.01960784, 0.01960784, 0.01960784],\n",
              "         [0.01568627, 0.01568627, 0.01568627]]],\n",
              "\n",
              "\n",
              "       ...,\n",
              "\n",
              "\n",
              "       [[[0.1254902 , 0.06666667, 0.13333333],\n",
              "         [0.09411765, 0.05490196, 0.09019608],\n",
              "         [0.03921569, 0.03137255, 0.04705882],\n",
              "         ...,\n",
              "         [0.03137255, 0.01568627, 0.07058824],\n",
              "         [0.02745098, 0.03529412, 0.09019608],\n",
              "         [0.02352941, 0.02745098, 0.09411765]],\n",
              "\n",
              "        [[0.09019608, 0.07058824, 0.0745098 ],\n",
              "         [0.06666667, 0.05490196, 0.03921569],\n",
              "         [0.03529412, 0.02352941, 0.02745098],\n",
              "         ...,\n",
              "         [0.01960784, 0.01176471, 0.02745098],\n",
              "         [0.03921569, 0.03137255, 0.03137255],\n",
              "         [0.03529412, 0.01960784, 0.06666667]],\n",
              "\n",
              "        [[0.05490196, 0.05490196, 0.04705882],\n",
              "         [0.0627451 , 0.05490196, 0.05098039],\n",
              "         [0.03921569, 0.03137255, 0.02352941],\n",
              "         ...,\n",
              "         [0.02352941, 0.01960784, 0.04705882],\n",
              "         [0.01960784, 0.02352941, 0.08627451],\n",
              "         [0.03921569, 0.03921569, 0.1254902 ]],\n",
              "\n",
              "        ...,\n",
              "\n",
              "        [[0.06666667, 0.07058824, 0.04705882],\n",
              "         [0.03921569, 0.0627451 , 0.03137255],\n",
              "         [0.03137255, 0.04705882, 0.06666667],\n",
              "         ...,\n",
              "         [0.04705882, 0.03921569, 0.07058824],\n",
              "         [0.03921569, 0.03529412, 0.05098039],\n",
              "         [0.0627451 , 0.03921569, 0.07843137]],\n",
              "\n",
              "        [[0.04313725, 0.05490196, 0.03921569],\n",
              "         [0.02745098, 0.04313725, 0.03137255],\n",
              "         [0.02745098, 0.05490196, 0.09411765],\n",
              "         ...,\n",
              "         [0.04313725, 0.03921569, 0.05098039],\n",
              "         [0.03921569, 0.04313725, 0.08627451],\n",
              "         [0.03137255, 0.03529412, 0.05882353]],\n",
              "\n",
              "        [[0.05882353, 0.06666667, 0.05490196],\n",
              "         [0.05098039, 0.03921569, 0.04705882],\n",
              "         [0.03137255, 0.03137255, 0.03137255],\n",
              "         ...,\n",
              "         [0.05490196, 0.02745098, 0.07058824],\n",
              "         [0.04705882, 0.03921569, 0.07843137],\n",
              "         [0.02745098, 0.02745098, 0.0745098 ]]],\n",
              "\n",
              "\n",
              "       [[[0.        , 0.        , 0.        ],\n",
              "         [0.01568627, 0.01568627, 0.01568627],\n",
              "         [0.01568627, 0.01568627, 0.01568627],\n",
              "         ...,\n",
              "         [0.00392157, 0.00392157, 0.00392157],\n",
              "         [0.00392157, 0.00392157, 0.00392157],\n",
              "         [0.        , 0.        , 0.        ]],\n",
              "\n",
              "        [[0.00784314, 0.00784314, 0.00784314],\n",
              "         [0.00784314, 0.00784314, 0.00784314],\n",
              "         [0.00392157, 0.00392157, 0.00392157],\n",
              "         ...,\n",
              "         [0.        , 0.        , 0.        ],\n",
              "         [0.00784314, 0.00784314, 0.00784314],\n",
              "         [0.00392157, 0.00392157, 0.00392157]],\n",
              "\n",
              "        [[0.01568627, 0.01568627, 0.01568627],\n",
              "         [0.01176471, 0.01176471, 0.01176471],\n",
              "         [0.00392157, 0.00392157, 0.00392157],\n",
              "         ...,\n",
              "         [0.00784314, 0.00784314, 0.02352941],\n",
              "         [0.00784314, 0.00784314, 0.02352941],\n",
              "         [0.00784314, 0.00784314, 0.02352941]],\n",
              "\n",
              "        ...,\n",
              "\n",
              "        [[0.01568627, 0.01568627, 0.01568627],\n",
              "         [0.01960784, 0.01960784, 0.01960784],\n",
              "         [0.01176471, 0.01176471, 0.01176471],\n",
              "         ...,\n",
              "         [0.00392157, 0.00392157, 0.00392157],\n",
              "         [0.00392157, 0.00392157, 0.00392157],\n",
              "         [0.00784314, 0.00784314, 0.00784314]],\n",
              "\n",
              "        [[0.01960784, 0.01960784, 0.01960784],\n",
              "         [0.00784314, 0.00784314, 0.00784314],\n",
              "         [0.01568627, 0.01568627, 0.01568627],\n",
              "         ...,\n",
              "         [0.00392157, 0.00392157, 0.00392157],\n",
              "         [0.        , 0.        , 0.        ],\n",
              "         [0.00392157, 0.00392157, 0.00392157]],\n",
              "\n",
              "        [[0.01176471, 0.01176471, 0.01176471],\n",
              "         [0.01176471, 0.01176471, 0.01176471],\n",
              "         [0.01176471, 0.01176471, 0.01176471],\n",
              "         ...,\n",
              "         [0.        , 0.        , 0.        ],\n",
              "         [0.00392157, 0.00392157, 0.00392157],\n",
              "         [0.01176471, 0.01176471, 0.01176471]]],\n",
              "\n",
              "\n",
              "       [[[0.01176471, 0.01568627, 0.03137255],\n",
              "         [0.03137255, 0.02352941, 0.04313725],\n",
              "         [0.04705882, 0.03529412, 0.06666667],\n",
              "         ...,\n",
              "         [0.02745098, 0.02352941, 0.07843137],\n",
              "         [0.02745098, 0.03137255, 0.02745098],\n",
              "         [0.02745098, 0.03529412, 0.05098039]],\n",
              "\n",
              "        [[0.01960784, 0.01960784, 0.05490196],\n",
              "         [0.03137255, 0.03137255, 0.03137255],\n",
              "         [0.04705882, 0.03529412, 0.08235294],\n",
              "         ...,\n",
              "         [0.03529412, 0.03137255, 0.0627451 ],\n",
              "         [0.03921569, 0.03921569, 0.04705882],\n",
              "         [0.02745098, 0.03529412, 0.04705882]],\n",
              "\n",
              "        [[0.01568627, 0.01960784, 0.0745098 ],\n",
              "         [0.01568627, 0.02352941, 0.05490196],\n",
              "         [0.01960784, 0.02745098, 0.0745098 ],\n",
              "         ...,\n",
              "         [0.03921569, 0.04313725, 0.08235294],\n",
              "         [0.02745098, 0.03137255, 0.05882353],\n",
              "         [0.05098039, 0.04313725, 0.03921569]],\n",
              "\n",
              "        ...,\n",
              "\n",
              "        [[0.0627451 , 0.05882353, 0.07843137],\n",
              "         [0.12156863, 0.08235294, 0.08235294],\n",
              "         [0.09019608, 0.09019608, 0.09411765],\n",
              "         ...,\n",
              "         [0.08627451, 0.08627451, 0.12941176],\n",
              "         [0.10588235, 0.07843137, 0.1372549 ],\n",
              "         [0.09411765, 0.07843137, 0.12941176]],\n",
              "\n",
              "        [[0.0745098 , 0.04313725, 0.07843137],\n",
              "         [0.08627451, 0.07843137, 0.0745098 ],\n",
              "         [0.07058824, 0.0745098 , 0.08235294],\n",
              "         ...,\n",
              "         [0.07843137, 0.08235294, 0.10196078],\n",
              "         [0.0745098 , 0.07843137, 0.1254902 ],\n",
              "         [0.05098039, 0.04313725, 0.11764706]],\n",
              "\n",
              "        [[0.09411765, 0.06666667, 0.08235294],\n",
              "         [0.09803922, 0.08235294, 0.07843137],\n",
              "         [0.0627451 , 0.05490196, 0.07058824],\n",
              "         ...,\n",
              "         [0.0627451 , 0.0627451 , 0.11372549],\n",
              "         [0.05098039, 0.05490196, 0.0627451 ],\n",
              "         [0.04705882, 0.03921569, 0.05098039]]]])"
            ]
          },
          "execution_count": 51,
          "metadata": {},
          "output_type": "execute_result"
        }
      ],
      "source": [
        "from sklearn import metrics\n",
        "from sklearn.metrics import confusion_matrix, classification_report\n",
        "y_pred_cnn = model.predict(X_val)\n",
        "y_pred_cnn = np.argmax(y_pred_cnn,axis = 1)\n",
        "# Convert validation observations to one hot vectors\n",
        "Y_true = np.argmax(Y_val,axis = 1) \n",
        "\n",
        "score = metrics.precision_score(Y_true,y_pred_cnn, average= \"weighted\")\n",
        "print(\"Precision score: {}\".format(score))\n",
        "score = metrics.recall_score(Y_true, y_pred_cnn, average= \"weighted\")\n",
        "print(\"Recall score: {}\".format(score))\n",
        "score_lr1 = metrics.f1_score(Y_true, y_pred_cnn, average= \"weighted\")\n",
        "print(\"F1 score: {}\".format(score_lr1))\n",
        "X_val"
      ]
    },
    {
      "cell_type": "code",
      "execution_count": 49,
      "metadata": {
        "colab": {
          "base_uri": "https://localhost:8080/",
          "height": 708
        },
        "id": "BBhtagORvFik",
        "outputId": "91a5e2ce-729a-4da0-e313-325dea019794"
      },
      "outputs": [
        {
          "name": "stdout",
          "output_type": "stream",
          "text": [
            "Confusion matrix:\n",
            " [[144  67]\n",
            " [ 40 176]]\n",
            "              precision    recall  f1-score   support\n",
            "\n",
            "           0       0.78      0.68      0.73       211\n",
            "           1       0.72      0.81      0.77       216\n",
            "\n",
            "    accuracy                           0.75       427\n",
            "   macro avg       0.75      0.75      0.75       427\n",
            "weighted avg       0.75      0.75      0.75       427\n",
            "\n",
            "Plot of Confusion Matrix\n"
          ]
        },
        {
          "data": {
            "text/plain": [
              "<matplotlib.axes._subplots.AxesSubplot at 0x7fc92bc7d310>"
            ]
          },
          "execution_count": 49,
          "metadata": {},
          "output_type": "execute_result"
        },
        {
          "data": {
            "image/png": "[encoded data removed]",
            "text/plain": [
              "<Figure size 720x504 with 2 Axes>"
            ]
          },
          "metadata": {
            "needs_background": "light"
          },
          "output_type": "display_data"
        }
      ],
      "source": [
        "import seaborn as sns\n",
        "cm = confusion_matrix(Y_true, y_pred_cnn)\n",
        "print('Confusion matrix:\\n',cm)\n",
        "\n",
        "print(classification_report(Y_true, y_pred_cnn))\n",
        "\n",
        "print('Plot of Confusion Matrix')\n",
        "df_cm = pd.DataFrame(cm, columns=np.unique(Y_true), index = np.unique(Y_true))\n",
        "df_cm.index.name = 'Actual'\n",
        "df_cm.columns.name = 'Predicted'\n",
        "plt.figure(figsize = (10,7))\n",
        "sns.set(font_scale=1.4)#for label size\n",
        "sns.heatmap(df_cm, cmap=\"Blues\", annot=True,annot_kws={\"size\": 16})# font size"
      ]
    },
    {
      "cell_type": "code",
      "execution_count": 50,
      "metadata": {
        "colab": {
          "base_uri": "https://localhost:8080/",
          "height": 161
        },
        "id": "eprbGY7MvFgA",
        "outputId": "b42b7b9e-f207-4c70-ad5e-4f80a9f858ba"
      },
      "outputs": [
        {
          "name": "stdout",
          "output_type": "stream",
          "text": [
            "ROC_AUC score: 0.748639634895559\n"
          ]
        },
        {
          "data": {
            "text/html": [
              "\n",
              "  <div id=\"df-b12cd538-9f17-4c03-8ad1-a47fd93395de\">\n",
              "    <div class=\"colab-df-container\">\n",
              "      <div>\n",
              "<style scoped>\n",
              "    .dataframe tbody tr th:only-of-type {\n",
              "        vertical-align: middle;\n",
              "    }\n",
              "\n",
              "    .dataframe tbody tr th {\n",
              "        vertical-align: top;\n",
              "    }\n",
              "\n",
              "    .dataframe thead th {\n",
              "        text-align: right;\n",
              "    }\n",
              "</style>\n",
              "<table border=\"1\" class=\"dataframe\">\n",
              "  <thead>\n",
              "    <tr style=\"text-align: right;\">\n",
              "      <th>Predicted</th>\n",
              "      <th>0</th>\n",
              "      <th>1</th>\n",
              "    </tr>\n",
              "    <tr>\n",
              "      <th>Actual</th>\n",
              "      <th></th>\n",
              "      <th></th>\n",
              "    </tr>\n",
              "  </thead>\n",
              "  <tbody>\n",
              "    <tr>\n",
              "      <th>0</th>\n",
              "      <td>144</td>\n",
              "      <td>67</td>\n",
              "    </tr>\n",
              "    <tr>\n",
              "      <th>1</th>\n",
              "      <td>40</td>\n",
              "      <td>176</td>\n",
              "    </tr>\n",
              "  </tbody>\n",
              "</table>\n",
              "</div>\n",
              "      <button class=\"colab-df-convert\" onclick=\"convertToInteractive('df-b12cd538-9f17-4c03-8ad1-a47fd93395de')\"\n",
              "              title=\"Convert this dataframe to an interactive table.\"\n",
              "              style=\"display:none;\">\n",
              "        \n",
              "  <svg xmlns=\"http://www.w3.org/2000/svg\" height=\"24px\"viewBox=\"0 0 24 24\"\n",
              "       width=\"24px\">\n",
              "    <path d=\"M0 0h24v24H0V0z\" fill=\"none\"/>\n",
              "    <path d=\"M18.56 5.44l.94 2.06.94-2.06 2.06-.94-2.06-.94-.94-2.06-.94 2.06-2.06.94zm-11 1L8.5 8.5l.94-2.06 2.06-.94-2.06-.94L8.5 2.5l-.94 2.06-2.06.94zm10 10l.94 2.06.94-2.06 2.06-.94-2.06-.94-.94-2.06-.94 2.06-2.06.94z\"/><path d=\"M17.41 7.96l-1.37-1.37c-.4-.4-.92-.59-1.43-.59-.52 0-1.04.2-1.43.59L10.3 9.45l-7.72 7.72c-.78.78-.78 2.05 0 2.83L4 21.41c.39.39.9.59 1.41.59.51 0 1.02-.2 1.41-.59l7.78-7.78 2.81-2.81c.8-.78.8-2.07 0-2.86zM5.41 20L4 18.59l7.72-7.72 1.47 1.35L5.41 20z\"/>\n",
              "  </svg>\n",
              "      </button>\n",
              "      \n",
              "  <style>\n",
              "    .colab-df-container {\n",
              "      display:flex;\n",
              "      flex-wrap:wrap;\n",
              "      gap: 12px;\n",
              "    }\n",
              "\n",
              "    .colab-df-convert {\n",
              "      background-color: #E8F0FE;\n",
              "      border: none;\n",
              "      border-radius: 50%;\n",
              "      cursor: pointer;\n",
              "      display: none;\n",
              "      fill: #1967D2;\n",
              "      height: 32px;\n",
              "      padding: 0 0 0 0;\n",
              "      width: 32px;\n",
              "    }\n",
              "\n",
              "    .colab-df-convert:hover {\n",
              "      background-color: #E2EBFA;\n",
              "      box-shadow: 0px 1px 2px rgba(60, 64, 67, 0.3), 0px 1px 3px 1px rgba(60, 64, 67, 0.15);\n",
              "      fill: #174EA6;\n",
              "    }\n",
              "\n",
              "    [theme=dark] .colab-df-convert {\n",
              "      background-color: #3B4455;\n",
              "      fill: #D2E3FC;\n",
              "    }\n",
              "\n",
              "    [theme=dark] .colab-df-convert:hover {\n",
              "      background-color: #434B5C;\n",
              "      box-shadow: 0px 1px 3px 1px rgba(0, 0, 0, 0.15);\n",
              "      filter: drop-shadow(0px 1px 2px rgba(0, 0, 0, 0.3));\n",
              "      fill: #FFFFFF;\n",
              "    }\n",
              "  </style>\n",
              "\n",
              "      <script>\n",
              "        const buttonEl =\n",
              "          document.querySelector('#df-b12cd538-9f17-4c03-8ad1-a47fd93395de button.colab-df-convert');\n",
              "        buttonEl.style.display =\n",
              "          google.colab.kernel.accessAllowed ? 'block' : 'none';\n",
              "\n",
              "        async function convertToInteractive(key) {\n",
              "          const element = document.querySelector('#df-b12cd538-9f17-4c03-8ad1-a47fd93395de');\n",
              "          const dataTable =\n",
              "            await google.colab.kernel.invokeFunction('convertToInteractive',\n",
              "                                                     [key], {});\n",
              "          if (!dataTable) return;\n",
              "\n",
              "          const docLinkHtml = 'Like what you see? Visit the ' +\n",
              "            '<a target=\"_blank\" href=https://colab.research.google.com/notebooks/data_table.ipynb>data table notebook</a>'\n",
              "            + ' to learn more about interactive tables.';\n",
              "          element.innerHTML = '';\n",
              "          dataTable['output_type'] = 'display_data';\n",
              "          await google.colab.output.renderOutput(dataTable, element);\n",
              "          const docLink = document.createElement('div');\n",
              "          docLink.innerHTML = docLinkHtml;\n",
              "          element.appendChild(docLink);\n",
              "        }\n",
              "      </script>\n",
              "    </div>\n",
              "  </div>\n",
              "  "
            ],
            "text/plain": [
              "Predicted    0    1\n",
              "Actual             \n",
              "0          144   67\n",
              "1           40  176"
            ]
          },
          "execution_count": 50,
          "metadata": {},
          "output_type": "execute_result"
        }
      ],
      "source": [
        "from sklearn.metrics import roc_auc_score\n",
        "print('ROC_AUC score:',roc_auc_score(Y_true,y_pred_cnn))\n",
        "df_cm"
      ]
    },
    {
      "cell_type": "code",
      "execution_count": null,
      "metadata": {
        "id": "-rdHpfjhvFdY"
      },
      "outputs": [],
      "source": []
    },
    {
      "cell_type": "code",
      "execution_count": null,
      "metadata": {
        "id": "cbqBe0HCvFa3"
      },
      "outputs": [],
      "source": []
    },
    {
      "cell_type": "code",
      "execution_count": null,
      "metadata": {
        "id": "_sgVl8NUvFX9"
      },
      "outputs": [],
      "source": []
    },
    {
      "cell_type": "code",
      "execution_count": null,
      "metadata": {
        "id": "Bf1MonjZvFU7"
      },
      "outputs": [],
      "source": []
    },
    {
      "cell_type": "code",
      "execution_count": null,
      "metadata": {
        "id": "Q4TNdXf6vFM8"
      },
      "outputs": [],
      "source": []
    },
    {
      "cell_type": "code",
      "execution_count": null,
      "metadata": {
        "id": "soJ-yIELvFJ2"
      },
      "outputs": [],
      "source": []
    }
  ],
  "metadata": {
    "colab": {
      "provenance": []
    },
    "kernelspec": {
      "display_name": "base",
      "language": "python",
      "name": "python3"
    },
    "language_info": {
      "name": "python",
      "version": "3.9.7"
    },
    "vscode": {
      "interpreter": {
        "hash": "1649aa2cb7a97c6c6df13406c951b9b06a1ebc05696ce3b49d8d5f60767b77a8"
      }
    }
  },
  "nbformat": 4,
  "nbformat_minor": 0
}
