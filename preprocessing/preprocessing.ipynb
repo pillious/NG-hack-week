{
 "cells": [
  {
   "cell_type": "code",
   "execution_count": 5,
   "metadata": {},
   "outputs": [],
   "source": [
    "import pandas as pd\n",
    "import os\n",
    "from dotenv import load_dotenv\n",
    "from PIL import Image\n",
    "\n",
    "load_dotenv()\n",
    "local_path = os.getenv('DATASET_PATH')\n",
    "# print(file.head())\n",
    "# img = Image.open(local_path + \"CASIA2.0_revised/Au/Au_nat_00098.jpg\")\n",
    "# img.show()\n",
    "\n",
    "# img = Image.open(local_path + \"CASIA2.0_revised/Tp/Tp_D_NRN_S_N_nat00098_ani00058_11461.jpg\")\n",
    "# img.show()\n",
    "# img = Image.open(local_path + \"CASIA2.0_Groundtruth/Tp_D_NRN_S_N_nat00098_ani00058_11461_gt.png\")\n",
    "# img.show()\n",
    "\n"
   ]
  }
 ],
 "metadata": {
  "kernelspec": {
   "display_name": "base",
   "language": "python",
   "name": "python3"
  },
  "language_info": {
   "codemirror_mode": {
    "name": "ipython",
    "version": 3
   },
   "file_extension": ".py",
   "mimetype": "text/x-python",
   "name": "python",
   "nbconvert_exporter": "python",
   "pygments_lexer": "ipython3",
   "version": "3.9.7"
  },
  "orig_nbformat": 4,
  "vscode": {
   "interpreter": {
    "hash": "1649aa2cb7a97c6c6df13406c951b9b06a1ebc05696ce3b49d8d5f60767b77a8"
   }
  }
 },
 "nbformat": 4,
 "nbformat_minor": 2
}
