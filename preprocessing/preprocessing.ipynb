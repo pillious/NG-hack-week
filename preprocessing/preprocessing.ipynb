{
 "cells": [
  {
   "cell_type": "code",
   "execution_count": 8,
   "metadata": {},
   "outputs": [],
   "source": [
    "import pandas as pd\n",
    "# import os\n",
    "# from dotenv import load_dotenv\n",
    "from PIL import Image\n",
    "\n",
    "local_path = \"/Users/timvuong/Desktop/hackWeek/archive/\"\n",
    "# load_dotenv()\n",
    "# local_path = os.getenv('DATASET_PATH')\n",
    "\n",
    "def read_csv(file):\n",
    "    df = pd.read_csv(file)\n",
    "    # print(file.head())\n",
    "    img = Image.open(local_path + \"real_vs_fake/real-vs-fake/\" + df['path'][0])\n",
    "    img.show()\n",
    "\n",
    "read_csv(local_path + 'train.csv')\n"
   ]
  }
 ],
 "metadata": {
  "kernelspec": {
   "display_name": "base",
   "language": "python",
   "name": "python3"
  },
  "language_info": {
   "codemirror_mode": {
    "name": "ipython",
    "version": 3
   },
   "file_extension": ".py",
   "mimetype": "text/x-python",
   "name": "python",
   "nbconvert_exporter": "python",
   "pygments_lexer": "ipython3",
   "version": "3.9.7"
  },
  "orig_nbformat": 4,
  "vscode": {
   "interpreter": {
    "hash": "1649aa2cb7a97c6c6df13406c951b9b06a1ebc05696ce3b49d8d5f60767b77a8"
   }
  }
 },
 "nbformat": 4,
 "nbformat_minor": 2
}
